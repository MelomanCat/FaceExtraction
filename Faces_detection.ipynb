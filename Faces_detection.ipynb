{
  "nbformat": 4,
  "nbformat_minor": 0,
  "metadata": {
    "colab": {
      "provenance": [],
      "mount_file_id": "1WdcD8b3XUOkUnvB9wLjOOB5UMscYsAF6",
      "authorship_tag": "ABX9TyPawBW0b2pZBLLa7L+Xn5wh",
      "include_colab_link": true
    },
    "kernelspec": {
      "name": "python3",
      "display_name": "Python 3"
    },
    "language_info": {
      "name": "python"
    }
  },
  "cells": [
    {
      "cell_type": "markdown",
      "metadata": {
        "id": "view-in-github",
        "colab_type": "text"
      },
      "source": [
        "<a href=\"https://colab.research.google.com/github/MelomanCat/FaceExtraction/blob/main/Faces_detection.ipynb\" target=\"_parent\"><img src=\"https://colab.research.google.com/assets/colab-badge.svg\" alt=\"Open In Colab\"/></a>"
      ]
    },
    {
      "cell_type": "code",
      "execution_count": null,
      "metadata": {
        "id": "UalGu8aNguqN"
      },
      "outputs": [],
      "source": [
        "import cv2\n",
        "import os\n",
        "os.environ['DLIB_USE_CUDA'] = '0'\n",
        "import dlib\n",
        "\n",
        "# Загрузка детектора лиц из dlib\n",
        "cnn_face_detector = dlib.cnn_face_detection_model_v1('/content/drive/MyDrive/Colab Notebooks/ManipulatedSequences/mmod_human_face_detector.dat')\n",
        "\n",
        "# Открытие видеофайла для чтения\n",
        "cap = cv2.VideoCapture('/content/drive/MyDrive/Colab Notebooks/ManipulatedSequences/672_720.mp4')\n",
        "\n",
        "# Считывание кадров из видео и детекция лиц\n",
        "frame_num = 0\n",
        "while cap.isOpened():\n",
        "    ret, frame = cap.read()\n",
        "    if not ret:\n",
        "        break\n",
        "\n",
        "    # Детекция лиц на текущем кадре\n",
        "    dets = cnn_face_detector(frame, 1)\n",
        "\n",
        "    # Отрисовка результатов детекции лиц на текущем кадре\n",
        "    for i, d in enumerate(dets):\n",
        "        x, y, w, h = d.rect.left(), d.rect.top(), d.rect.width(), d.rect.height()\n",
        "        cv2.rectangle(frame, (x, y), (x + w, y + h), (0, 255, 0), 2)\n",
        "\n",
        "    # Сохранение текущего кадра с результатами детекции лиц в файл\n",
        "    output_folder = \"/content/drive/MyDrive/Colab Notebooks/ManipulatedSequences/ExtractedImagesFake/\"\n",
        "    print(\"Saving file to:\", output_folder)\n",
        "    output_filename = '672_720_' + 'output_frame_{:04d}.jpg'.format(frame_num)\n",
        "    cv2.imwrite(output_filename, frame)\n",
        "    frame_num += 1\n",
        "\n",
        "# Освобождение ресурсов\n",
        "cap.release()\n",
        "cv2.destroyAllWindows()\n"
      ]
    }
  ]
}